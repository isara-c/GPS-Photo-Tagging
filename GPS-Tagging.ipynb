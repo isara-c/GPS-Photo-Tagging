{
 "cells": [
  {
   "cell_type": "markdown",
   "metadata": {},
   "source": [
    "### Import"
   ]
  },
  {
   "cell_type": "code",
   "execution_count": 1,
   "metadata": {},
   "outputs": [],
   "source": [
    "from GPSPhoto import gpsphoto"
   ]
  },
  {
   "cell_type": "code",
   "execution_count": 2,
   "metadata": {},
   "outputs": [],
   "source": [
    "import pandas as pd"
   ]
  },
  {
   "cell_type": "code",
   "execution_count": 3,
   "metadata": {},
   "outputs": [],
   "source": [
    "def decdeg2dms(dd):\n",
    "   is_positive = dd >= 0\n",
    "   dd = abs(dd)\n",
    "   minutes,seconds = divmod(dd*3600,60)\n",
    "   degrees,minutes = divmod(minutes,60)\n",
    "   degrees = degrees if is_positive else -degrees\n",
    "   return (degrees,minutes,seconds)"
   ]
  },
  {
   "cell_type": "code",
   "execution_count": 4,
   "metadata": {},
   "outputs": [],
   "source": [
    "import os"
   ]
  },
  {
   "cell_type": "code",
   "execution_count": 5,
   "metadata": {},
   "outputs": [],
   "source": [
    "data = pd.read_csv('GPS.txt', delimiter=\"\\t\", header= None)\n",
    "os.chdir('./Picture/')"
   ]
  },
  {
   "cell_type": "markdown",
   "metadata": {},
   "source": [
    "### Read text file"
   ]
  },
  {
   "cell_type": "code",
   "execution_count": 6,
   "metadata": {},
   "outputs": [],
   "source": [
    "data.drop(data.columns[[2]], axis=1, inplace=True)"
   ]
  },
  {
   "cell_type": "code",
   "execution_count": 7,
   "metadata": {},
   "outputs": [],
   "source": [
    "data = data.drop([0,1,2])"
   ]
  },
  {
   "cell_type": "code",
   "execution_count": 8,
   "metadata": {},
   "outputs": [],
   "source": [
    "data.columns = [\"No.\", \"date\", \"Latittude\", \"Lontitudde\", \"Altitude\", \"Yaw\", \"Pitch\", \"Roll\", \"None\", \"None\", \"Name\", \"GPS\"]"
   ]
  },
  {
   "cell_type": "code",
   "execution_count": 9,
   "metadata": {},
   "outputs": [
    {
     "output_type": "execute_result",
     "data": {
      "text/plain": "     No.                 date  Latittude  Lontitudde  Altitude       Yaw  \\\n3      4  2020-06-10T14:44:02  14.130572  100.298972   236.914  5.047758   \n4      5  2020-06-10T14:44:04  14.130583  100.299218   237.474  5.540502   \n5      6  2020-06-10T14:44:04  14.130595  100.299436   237.673  3.466395   \n6      7  2020-06-10T14:44:05  14.130600  100.299660   237.739  2.280372   \n7      8  2020-06-10T14:44:06  14.130612  100.299883   237.604  0.905273   \n..   ...                  ...        ...         ...       ...       ...   \n680  681  2020-06-10T15:06:44  14.120900  100.301172   237.592  2.698631   \n681  682  2020-06-10T15:06:45  14.120883  100.300955   237.865  2.956462   \n682  683  2020-06-10T15:06:47  14.120871  100.300731   238.126  3.729955   \n683  684  2020-06-10T15:06:48  14.120854  100.300513   238.311  3.752874   \n684  685  2020-06-10T15:06:50  14.120843  100.300290   238.190  1.300614   \n\n        Pitch        Roll       None   None     Name        GPS  \n3    4.331561   75.893990  85.445196  23.95  DSC4     287042926  \n4    3.128350   76.701860  86.562464  24.42  DSC5     287044018  \n5    1.357910   79.131201  87.725568  24.88  DSC6     287044978  \n6    2.091296   78.025393  87.920374  25.29  DSC7     287045941  \n7    1.552716   77.882153  87.456278  25.72  DSC8     287046898  \n..        ...         ...        ...    ...      ...        ...  \n680  3.403369 -105.624770 -94.217180  17.14  DSC681   288404618  \n681  1.781899 -105.676336 -93.902053  17.38  DSC682   288405979  \n682  0.343775 -105.086189 -93.861946  17.54  DSC683   288407355  \n683  0.177617 -104.329885 -93.976538  17.60  DSC684   288408717  \n684  1.117268 -106.919654 -94.028104  17.75  DSC685   288410072  \n\n[682 rows x 12 columns]",
      "text/html": "<div>\n<style scoped>\n    .dataframe tbody tr th:only-of-type {\n        vertical-align: middle;\n    }\n\n    .dataframe tbody tr th {\n        vertical-align: top;\n    }\n\n    .dataframe thead th {\n        text-align: right;\n    }\n</style>\n<table border=\"1\" class=\"dataframe\">\n  <thead>\n    <tr style=\"text-align: right;\">\n      <th></th>\n      <th>No.</th>\n      <th>date</th>\n      <th>Latittude</th>\n      <th>Lontitudde</th>\n      <th>Altitude</th>\n      <th>Yaw</th>\n      <th>Pitch</th>\n      <th>Roll</th>\n      <th>None</th>\n      <th>None</th>\n      <th>Name</th>\n      <th>GPS</th>\n    </tr>\n  </thead>\n  <tbody>\n    <tr>\n      <th>3</th>\n      <td>4</td>\n      <td>2020-06-10T14:44:02</td>\n      <td>14.130572</td>\n      <td>100.298972</td>\n      <td>236.914</td>\n      <td>5.047758</td>\n      <td>4.331561</td>\n      <td>75.893990</td>\n      <td>85.445196</td>\n      <td>23.95</td>\n      <td>DSC4</td>\n      <td>287042926</td>\n    </tr>\n    <tr>\n      <th>4</th>\n      <td>5</td>\n      <td>2020-06-10T14:44:04</td>\n      <td>14.130583</td>\n      <td>100.299218</td>\n      <td>237.474</td>\n      <td>5.540502</td>\n      <td>3.128350</td>\n      <td>76.701860</td>\n      <td>86.562464</td>\n      <td>24.42</td>\n      <td>DSC5</td>\n      <td>287044018</td>\n    </tr>\n    <tr>\n      <th>5</th>\n      <td>6</td>\n      <td>2020-06-10T14:44:04</td>\n      <td>14.130595</td>\n      <td>100.299436</td>\n      <td>237.673</td>\n      <td>3.466395</td>\n      <td>1.357910</td>\n      <td>79.131201</td>\n      <td>87.725568</td>\n      <td>24.88</td>\n      <td>DSC6</td>\n      <td>287044978</td>\n    </tr>\n    <tr>\n      <th>6</th>\n      <td>7</td>\n      <td>2020-06-10T14:44:05</td>\n      <td>14.130600</td>\n      <td>100.299660</td>\n      <td>237.739</td>\n      <td>2.280372</td>\n      <td>2.091296</td>\n      <td>78.025393</td>\n      <td>87.920374</td>\n      <td>25.29</td>\n      <td>DSC7</td>\n      <td>287045941</td>\n    </tr>\n    <tr>\n      <th>7</th>\n      <td>8</td>\n      <td>2020-06-10T14:44:06</td>\n      <td>14.130612</td>\n      <td>100.299883</td>\n      <td>237.604</td>\n      <td>0.905273</td>\n      <td>1.552716</td>\n      <td>77.882153</td>\n      <td>87.456278</td>\n      <td>25.72</td>\n      <td>DSC8</td>\n      <td>287046898</td>\n    </tr>\n    <tr>\n      <th>...</th>\n      <td>...</td>\n      <td>...</td>\n      <td>...</td>\n      <td>...</td>\n      <td>...</td>\n      <td>...</td>\n      <td>...</td>\n      <td>...</td>\n      <td>...</td>\n      <td>...</td>\n      <td>...</td>\n      <td>...</td>\n    </tr>\n    <tr>\n      <th>680</th>\n      <td>681</td>\n      <td>2020-06-10T15:06:44</td>\n      <td>14.120900</td>\n      <td>100.301172</td>\n      <td>237.592</td>\n      <td>2.698631</td>\n      <td>3.403369</td>\n      <td>-105.624770</td>\n      <td>-94.217180</td>\n      <td>17.14</td>\n      <td>DSC681</td>\n      <td>288404618</td>\n    </tr>\n    <tr>\n      <th>681</th>\n      <td>682</td>\n      <td>2020-06-10T15:06:45</td>\n      <td>14.120883</td>\n      <td>100.300955</td>\n      <td>237.865</td>\n      <td>2.956462</td>\n      <td>1.781899</td>\n      <td>-105.676336</td>\n      <td>-93.902053</td>\n      <td>17.38</td>\n      <td>DSC682</td>\n      <td>288405979</td>\n    </tr>\n    <tr>\n      <th>682</th>\n      <td>683</td>\n      <td>2020-06-10T15:06:47</td>\n      <td>14.120871</td>\n      <td>100.300731</td>\n      <td>238.126</td>\n      <td>3.729955</td>\n      <td>0.343775</td>\n      <td>-105.086189</td>\n      <td>-93.861946</td>\n      <td>17.54</td>\n      <td>DSC683</td>\n      <td>288407355</td>\n    </tr>\n    <tr>\n      <th>683</th>\n      <td>684</td>\n      <td>2020-06-10T15:06:48</td>\n      <td>14.120854</td>\n      <td>100.300513</td>\n      <td>238.311</td>\n      <td>3.752874</td>\n      <td>0.177617</td>\n      <td>-104.329885</td>\n      <td>-93.976538</td>\n      <td>17.60</td>\n      <td>DSC684</td>\n      <td>288408717</td>\n    </tr>\n    <tr>\n      <th>684</th>\n      <td>685</td>\n      <td>2020-06-10T15:06:50</td>\n      <td>14.120843</td>\n      <td>100.300290</td>\n      <td>238.190</td>\n      <td>1.300614</td>\n      <td>1.117268</td>\n      <td>-106.919654</td>\n      <td>-94.028104</td>\n      <td>17.75</td>\n      <td>DSC685</td>\n      <td>288410072</td>\n    </tr>\n  </tbody>\n</table>\n<p>682 rows × 12 columns</p>\n</div>"
     },
     "metadata": {},
     "execution_count": 9
    }
   ],
   "source": [
    "data"
   ]
  },
  {
   "cell_type": "code",
   "execution_count": 10,
   "metadata": {},
   "outputs": [],
   "source": [
    "start = 2759\n",
    "for i, name in enumerate(data['Name']):\n",
    "    new_name = 'DSC{0:05}'.format( start + i )\n",
    "    data.iloc[i, 10] = data.iloc[i, 10].replace(name, new_name)"
   ]
  },
  {
   "cell_type": "code",
   "execution_count": 11,
   "metadata": {},
   "outputs": [
    {
     "output_type": "execute_result",
     "data": {
      "text/plain": "     No.                 date  Latittude  Lontitudde  Altitude       Yaw  \\\n3      4  2020-06-10T14:44:02  14.130572  100.298972   236.914  5.047758   \n4      5  2020-06-10T14:44:04  14.130583  100.299218   237.474  5.540502   \n5      6  2020-06-10T14:44:04  14.130595  100.299436   237.673  3.466395   \n6      7  2020-06-10T14:44:05  14.130600  100.299660   237.739  2.280372   \n7      8  2020-06-10T14:44:06  14.130612  100.299883   237.604  0.905273   \n..   ...                  ...        ...         ...       ...       ...   \n680  681  2020-06-10T15:06:44  14.120900  100.301172   237.592  2.698631   \n681  682  2020-06-10T15:06:45  14.120883  100.300955   237.865  2.956462   \n682  683  2020-06-10T15:06:47  14.120871  100.300731   238.126  3.729955   \n683  684  2020-06-10T15:06:48  14.120854  100.300513   238.311  3.752874   \n684  685  2020-06-10T15:06:50  14.120843  100.300290   238.190  1.300614   \n\n        Pitch        Roll       None   None      Name        GPS  \n3    4.331561   75.893990  85.445196  23.95  DSC02759  287042926  \n4    3.128350   76.701860  86.562464  24.42  DSC02760  287044018  \n5    1.357910   79.131201  87.725568  24.88  DSC02761  287044978  \n6    2.091296   78.025393  87.920374  25.29  DSC02762  287045941  \n7    1.552716   77.882153  87.456278  25.72  DSC02763  287046898  \n..        ...         ...        ...    ...       ...        ...  \n680  3.403369 -105.624770 -94.217180  17.14  DSC03436  288404618  \n681  1.781899 -105.676336 -93.902053  17.38  DSC03437  288405979  \n682  0.343775 -105.086189 -93.861946  17.54  DSC03438  288407355  \n683  0.177617 -104.329885 -93.976538  17.60  DSC03439  288408717  \n684  1.117268 -106.919654 -94.028104  17.75  DSC03440  288410072  \n\n[682 rows x 12 columns]",
      "text/html": "<div>\n<style scoped>\n    .dataframe tbody tr th:only-of-type {\n        vertical-align: middle;\n    }\n\n    .dataframe tbody tr th {\n        vertical-align: top;\n    }\n\n    .dataframe thead th {\n        text-align: right;\n    }\n</style>\n<table border=\"1\" class=\"dataframe\">\n  <thead>\n    <tr style=\"text-align: right;\">\n      <th></th>\n      <th>No.</th>\n      <th>date</th>\n      <th>Latittude</th>\n      <th>Lontitudde</th>\n      <th>Altitude</th>\n      <th>Yaw</th>\n      <th>Pitch</th>\n      <th>Roll</th>\n      <th>None</th>\n      <th>None</th>\n      <th>Name</th>\n      <th>GPS</th>\n    </tr>\n  </thead>\n  <tbody>\n    <tr>\n      <th>3</th>\n      <td>4</td>\n      <td>2020-06-10T14:44:02</td>\n      <td>14.130572</td>\n      <td>100.298972</td>\n      <td>236.914</td>\n      <td>5.047758</td>\n      <td>4.331561</td>\n      <td>75.893990</td>\n      <td>85.445196</td>\n      <td>23.95</td>\n      <td>DSC02759</td>\n      <td>287042926</td>\n    </tr>\n    <tr>\n      <th>4</th>\n      <td>5</td>\n      <td>2020-06-10T14:44:04</td>\n      <td>14.130583</td>\n      <td>100.299218</td>\n      <td>237.474</td>\n      <td>5.540502</td>\n      <td>3.128350</td>\n      <td>76.701860</td>\n      <td>86.562464</td>\n      <td>24.42</td>\n      <td>DSC02760</td>\n      <td>287044018</td>\n    </tr>\n    <tr>\n      <th>5</th>\n      <td>6</td>\n      <td>2020-06-10T14:44:04</td>\n      <td>14.130595</td>\n      <td>100.299436</td>\n      <td>237.673</td>\n      <td>3.466395</td>\n      <td>1.357910</td>\n      <td>79.131201</td>\n      <td>87.725568</td>\n      <td>24.88</td>\n      <td>DSC02761</td>\n      <td>287044978</td>\n    </tr>\n    <tr>\n      <th>6</th>\n      <td>7</td>\n      <td>2020-06-10T14:44:05</td>\n      <td>14.130600</td>\n      <td>100.299660</td>\n      <td>237.739</td>\n      <td>2.280372</td>\n      <td>2.091296</td>\n      <td>78.025393</td>\n      <td>87.920374</td>\n      <td>25.29</td>\n      <td>DSC02762</td>\n      <td>287045941</td>\n    </tr>\n    <tr>\n      <th>7</th>\n      <td>8</td>\n      <td>2020-06-10T14:44:06</td>\n      <td>14.130612</td>\n      <td>100.299883</td>\n      <td>237.604</td>\n      <td>0.905273</td>\n      <td>1.552716</td>\n      <td>77.882153</td>\n      <td>87.456278</td>\n      <td>25.72</td>\n      <td>DSC02763</td>\n      <td>287046898</td>\n    </tr>\n    <tr>\n      <th>...</th>\n      <td>...</td>\n      <td>...</td>\n      <td>...</td>\n      <td>...</td>\n      <td>...</td>\n      <td>...</td>\n      <td>...</td>\n      <td>...</td>\n      <td>...</td>\n      <td>...</td>\n      <td>...</td>\n      <td>...</td>\n    </tr>\n    <tr>\n      <th>680</th>\n      <td>681</td>\n      <td>2020-06-10T15:06:44</td>\n      <td>14.120900</td>\n      <td>100.301172</td>\n      <td>237.592</td>\n      <td>2.698631</td>\n      <td>3.403369</td>\n      <td>-105.624770</td>\n      <td>-94.217180</td>\n      <td>17.14</td>\n      <td>DSC03436</td>\n      <td>288404618</td>\n    </tr>\n    <tr>\n      <th>681</th>\n      <td>682</td>\n      <td>2020-06-10T15:06:45</td>\n      <td>14.120883</td>\n      <td>100.300955</td>\n      <td>237.865</td>\n      <td>2.956462</td>\n      <td>1.781899</td>\n      <td>-105.676336</td>\n      <td>-93.902053</td>\n      <td>17.38</td>\n      <td>DSC03437</td>\n      <td>288405979</td>\n    </tr>\n    <tr>\n      <th>682</th>\n      <td>683</td>\n      <td>2020-06-10T15:06:47</td>\n      <td>14.120871</td>\n      <td>100.300731</td>\n      <td>238.126</td>\n      <td>3.729955</td>\n      <td>0.343775</td>\n      <td>-105.086189</td>\n      <td>-93.861946</td>\n      <td>17.54</td>\n      <td>DSC03438</td>\n      <td>288407355</td>\n    </tr>\n    <tr>\n      <th>683</th>\n      <td>684</td>\n      <td>2020-06-10T15:06:48</td>\n      <td>14.120854</td>\n      <td>100.300513</td>\n      <td>238.311</td>\n      <td>3.752874</td>\n      <td>0.177617</td>\n      <td>-104.329885</td>\n      <td>-93.976538</td>\n      <td>17.60</td>\n      <td>DSC03439</td>\n      <td>288408717</td>\n    </tr>\n    <tr>\n      <th>684</th>\n      <td>685</td>\n      <td>2020-06-10T15:06:50</td>\n      <td>14.120843</td>\n      <td>100.300290</td>\n      <td>238.190</td>\n      <td>1.300614</td>\n      <td>1.117268</td>\n      <td>-106.919654</td>\n      <td>-94.028104</td>\n      <td>17.75</td>\n      <td>DSC03440</td>\n      <td>288410072</td>\n    </tr>\n  </tbody>\n</table>\n<p>682 rows × 12 columns</p>\n</div>"
     },
     "metadata": {},
     "execution_count": 11
    }
   ],
   "source": [
    "data"
   ]
  },
  {
   "cell_type": "markdown",
   "metadata": {},
   "source": [
    "### Add Geo location"
   ]
  },
  {
   "cell_type": "code",
   "execution_count": 14,
   "metadata": {
    "scrolled": true,
    "tags": []
   },
   "outputs": [
    {
     "output_type": "stream",
     "name": "stdout",
     "text": "DSC02759 GeoTagged Update Completed.\nDSC02760 GeoTagged Update Completed.\nDSC02761 GeoTagged Update Completed.\nDSC02762 GeoTagged Update Completed.\nDSC02763 GeoTagged Update Completed.\nDSC02764 GeoTagged Update Completed.\nDSC02765 GeoTagged Update Completed.\nDSC02766 GeoTagged Update Completed.\nDSC02767 GeoTagged Update Completed.\nDSC02768 GeoTagged Update Completed.\nDSC02769 GeoTagged Update Completed.\nDSC02770 GeoTagged Update Completed.\nDSC02771 GeoTagged Update Completed.\nDSC02772 GeoTagged Update Completed.\nDSC02773 GeoTagged Update Completed.\nDSC02774 GeoTagged Update Completed.\nDSC02775 GeoTagged Update Completed.\nDSC02776 GeoTagged Update Completed.\nDSC02777 GeoTagged Update Completed.\nDSC02778 GeoTagged Update Completed.\nDSC02779 GeoTagged Update Completed.\n"
    }
   ],
   "source": [
    "for i, photo_name in enumerate(data['Name']):\n",
    "    lat = round( data.iloc[i, 2], 5)\n",
    "    lon = round( data.iloc[i, 3], 5)\n",
    "    h = int(data.iloc[i, 4])\n",
    "    \n",
    "    if str(photo_name + '.JPG') in os.listdir(os.getcwd()):\n",
    "        photo = gpsphoto.GPSPhoto( photo_name + '.JPG' )\n",
    "        info = gpsphoto.GPSInfo( ( lat, lon), alt=h )\n",
    "        #info = gpsphoto.GPSInfo( ( lat, lon), alt=h, timeStamp=time )\n",
    "        photo.modGPSData( info, photo_name + '.JPG' )\n",
    "        print('{} GeoTagged Update Completed.'.format(photo_name))"
   ]
  },
  {
   "cell_type": "code",
   "execution_count": null,
   "metadata": {},
   "outputs": [],
   "source": []
  }
 ],
 "metadata": {
  "kernelspec": {
   "display_name": "Add GPS to Photo",
   "language": "python",
   "name": "addgpstophoto-env"
  },
  "language_info": {
   "codemirror_mode": {
    "name": "ipython",
    "version": 3
   },
   "file_extension": ".py",
   "mimetype": "text/x-python",
   "name": "python",
   "nbconvert_exporter": "python",
   "pygments_lexer": "ipython3",
   "version": "3.8.3"
  }
 },
 "nbformat": 4,
 "nbformat_minor": 4
}